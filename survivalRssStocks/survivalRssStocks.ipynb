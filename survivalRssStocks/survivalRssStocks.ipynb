{
 "cells": [
  {
   "cell_type": "code",
   "execution_count": 1,
   "metadata": {},
   "outputs": [
    {
     "data": {
      "text/html": [
       "<div>\n",
       "<style scoped>\n",
       "    .dataframe tbody tr th:only-of-type {\n",
       "        vertical-align: middle;\n",
       "    }\n",
       "\n",
       "    .dataframe tbody tr th {\n",
       "        vertical-align: top;\n",
       "    }\n",
       "\n",
       "    .dataframe thead th {\n",
       "        text-align: right;\n",
       "    }\n",
       "</style>\n",
       "<table border=\"1\" class=\"dataframe\">\n",
       "  <thead>\n",
       "    <tr style=\"text-align: right;\">\n",
       "      <th></th>\n",
       "      <th>castle_lev</th>\n",
       "      <th>sort</th>\n",
       "      <th>num</th>\n",
       "      <th>p_num</th>\n",
       "      <th>mean</th>\n",
       "      <th>date</th>\n",
       "    </tr>\n",
       "  </thead>\n",
       "  <tbody>\n",
       "    <tr>\n",
       "      <th>0</th>\n",
       "      <td>6</td>\n",
       "      <td>25行动上限提升</td>\n",
       "      <td>1</td>\n",
       "      <td>838</td>\n",
       "      <td>0.001193</td>\n",
       "      <td>2018-08-10</td>\n",
       "    </tr>\n",
       "    <tr>\n",
       "      <th>1</th>\n",
       "      <td>6</td>\n",
       "      <td>VIP时长</td>\n",
       "      <td>4686</td>\n",
       "      <td>838</td>\n",
       "      <td>5.591885</td>\n",
       "      <td>2018-08-10</td>\n",
       "    </tr>\n",
       "    <tr>\n",
       "      <th>2</th>\n",
       "      <td>6</td>\n",
       "      <td>VIP点数</td>\n",
       "      <td>2616</td>\n",
       "      <td>838</td>\n",
       "      <td>3.121718</td>\n",
       "      <td>2018-08-10</td>\n",
       "    </tr>\n",
       "    <tr>\n",
       "      <th>3</th>\n",
       "      <td>6</td>\n",
       "      <td>体力</td>\n",
       "      <td>85675</td>\n",
       "      <td>838</td>\n",
       "      <td>102.237470</td>\n",
       "      <td>2018-08-10</td>\n",
       "    </tr>\n",
       "    <tr>\n",
       "      <th>4</th>\n",
       "      <td>6</td>\n",
       "      <td>假情报</td>\n",
       "      <td>26</td>\n",
       "      <td>838</td>\n",
       "      <td>0.031026</td>\n",
       "      <td>2018-08-10</td>\n",
       "    </tr>\n",
       "  </tbody>\n",
       "</table>\n",
       "</div>"
      ],
      "text/plain": [
       "   castle_lev      sort    num  p_num        mean        date\n",
       "0           6  25行动上限提升      1    838    0.001193  2018-08-10\n",
       "1           6     VIP时长   4686    838    5.591885  2018-08-10\n",
       "2           6     VIP点数   2616    838    3.121718  2018-08-10\n",
       "3           6        体力  85675    838  102.237470  2018-08-10\n",
       "4           6       假情报     26    838    0.031026  2018-08-10"
      ]
     },
     "execution_count": 1,
     "metadata": {},
     "output_type": "execute_result"
    }
   ],
   "source": [
    "import pandas as pd\n",
    "import numpy as np\n",
    "date = \"2018-08-10\"\n",
    "rss = pd.read_csv(date+'.csv',sep='\\t') \n",
    "amount = pd.read_csv('amount.csv',sep=',',encoding=\"GBK\") \n",
    "rss = pd.merge(rss,amount,how=\"left\",on=\"desc\")\n",
    "rss[\"amount_all\"]=rss.apply(lambda x: x['num'] * x['amount'], axis=1) \n",
    "rssTb = pd.pivot_table(rss,index=[\"castle_lev\",\"sort\"],aggfunc={\"num\":np.sum})\n",
    "rssTb = rssTb.reset_index()\n",
    "rssTbPlayer = pd.pivot_table(rss.query('desc==\"food\"'),index=[\"castle_lev\"],aggfunc={\"p_num\":np.sum})\n",
    "rssResult = pd.merge(rssTb,rssTbPlayer,how=\"left\",on=\"castle_lev\")\n",
    "rssResult[\"mean\"] = rssResult.apply(lambda x: x['num'] / x['p_num'], axis=1)\n",
    "rssResult[\"date\"] = date\n",
    "rssResult.to_csv(date+\"Result.csv\",encoding=\"GBK\")\n",
    "rssResult.head()"
   ]
  },
  {
   "cell_type": "code",
   "execution_count": null,
   "metadata": {},
   "outputs": [],
   "source": []
  }
 ],
 "metadata": {
  "kernelspec": {
   "display_name": "Python 3",
   "language": "python",
   "name": "python3"
  },
  "language_info": {
   "codemirror_mode": {
    "name": "ipython",
    "version": 3
   },
   "file_extension": ".py",
   "mimetype": "text/x-python",
   "name": "python",
   "nbconvert_exporter": "python",
   "pygments_lexer": "ipython3",
   "version": "3.6.5"
  }
 },
 "nbformat": 4,
 "nbformat_minor": 2
}
